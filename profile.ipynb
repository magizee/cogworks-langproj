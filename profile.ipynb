{
 "cells": [
  {
   "cell_type": "code",
   "execution_count": 1,
   "metadata": {},
   "outputs": [],
   "source": [
    "%matplotlib inline\n",
    "from database import Database\n",
    "from COCOOrganizer import COCOOrganizer as coco\n",
    "import numpy as np\n",
    "import gradio as gr"
   ]
  },
  {
   "cell_type": "code",
   "execution_count": 4,
   "metadata": {},
   "outputs": [
    {
     "name": "stdout",
     "output_type": "stream",
     "text": [
      "10000 annotations processed\n",
      "20000 annotations processed\n",
      "Top Image IDs: ['image_7', 'image_4', 'image_0', 'image_3', 'image_9']\n"
     ]
    },
    {
     "data": {
      "image/png": "[encoded data removed]",
      "text/plain": [
       "<Figure size 1500x500 with 5 Axes>"
      ]
     },
     "metadata": {},
     "output_type": "display_data"
    }
   ],
   "source": [
    "# Creating an instance of the Database class\n",
    "db = Database()\n",
    "coco_organizer = coco()\n",
    "\n",
    "# Generating random descriptors and embedding matrices\n",
    "num_images = 10\n",
    "descriptor_dimensions = 512\n",
    "embedding_dimensions = 200\n",
    "\n",
    "descriptors, embedding_matrix = db.generate_random_descriptor_and_matrices(num_images, descriptor_dimensions, embedding_dimensions)\n",
    "image_ids = [f\"image_{i}\" for i in range(num_images)]\n",
    "image_urls = [f\"https://placehold.co/600x400/{i}/{i}/png\" for i in ['blue', 'green', 'red', 'yellow', 'purple', 'orange', 'pink', 'brown', 'black', 'white']]\n",
    "\n",
    "# Converting descriptors to embeddings\n",
    "embeddings = db.convert_to_embeddings(descriptors, embedding_matrix)\n",
    "\n",
    "# Creating the image database\n",
    "db.create_image_database(image_ids, embeddings)\n",
    "\n",
    "# Saving the image database\n",
    "database_filename = 'database.pkl'\n",
    "db.save_image_database(database=db.image_embeddings, filename=database_filename)\n",
    "\n",
    "# Loading the image database\n",
    "loaded_image_database = db.load_image_database(database_filename)\n",
    "db.image_embeddings = loaded_image_database\n",
    "\n",
    "# Generating a random caption embedding for querying\n",
    "caption_embedding = np.random.rand(embedding_dimensions)\n",
    "\n",
    "# Querying the database\n",
    "top_image_ids = db.query_database(caption_embedding, top_k=5)\n",
    "print(\"Top Image IDs:\", top_image_ids)\n",
    "\n",
    "# Displaying the top images\n",
    "top_image_urls = [image_urls[image_ids.index(id)] for id in top_image_ids]\n",
    "db.display_images(image_urls=top_image_urls)"
   ]
  },
  {
   "cell_type": "code",
   "execution_count": 5,
   "metadata": {},
   "outputs": [
    {
     "name": "stdout",
     "output_type": "stream",
     "text": [
      "Running on local URL:  http://127.0.0.1:7861\n",
      "Running on public URL: https://ce0f11f3dc6bb64fc7.gradio.live\n",
      "\n",
      "This share link expires in 72 hours. For free permanent hosting and GPU upgrades, run `gradio deploy` from Terminal to deploy to Spaces (https://huggingface.co/spaces)\n"
     ]
    },
    {
     "data": {
      "text/html": [
       "<div><iframe src=\"https://ce0f11f3dc6bb64fc7.gradio.live\" width=\"100%\" height=\"500\" allow=\"autoplay; camera; microphone; clipboard-read; clipboard-write;\" frameborder=\"0\" allowfullscreen></iframe></div>"
      ],
      "text/plain": [
       "<IPython.core.display.HTML object>"
      ]
     },
     "metadata": {},
     "output_type": "display_data"
    },
    {
     "name": "stderr",
     "output_type": "stream",
     "text": [
      "Traceback (most recent call last):\n",
      "  File \"c:\\Users\\sgu07\\anaconda3\\envs\\week3\\lib\\site-packages\\gradio\\queueing.py\", line 536, in process_events\n",
      "    response = await route_utils.call_process_api(\n",
      "  File \"c:\\Users\\sgu07\\anaconda3\\envs\\week3\\lib\\site-packages\\gradio\\route_utils.py\", line 276, in call_process_api\n",
      "    output = await app.get_blocks().process_api(\n",
      "  File \"c:\\Users\\sgu07\\anaconda3\\envs\\week3\\lib\\site-packages\\gradio\\blocks.py\", line 1923, in process_api\n",
      "    result = await self.call_function(\n",
      "  File \"c:\\Users\\sgu07\\anaconda3\\envs\\week3\\lib\\site-packages\\gradio\\blocks.py\", line 1508, in call_function\n",
      "    prediction = await anyio.to_thread.run_sync(  # type: ignore\n",
      "  File \"c:\\Users\\sgu07\\anaconda3\\envs\\week3\\lib\\site-packages\\anyio\\to_thread.py\", line 56, in run_sync\n",
      "    return await get_async_backend().run_sync_in_worker_thread(\n",
      "  File \"c:\\Users\\sgu07\\anaconda3\\envs\\week3\\lib\\site-packages\\anyio\\_backends\\_asyncio.py\", line 2134, in run_sync_in_worker_thread\n",
      "    return await future\n",
      "  File \"c:\\Users\\sgu07\\anaconda3\\envs\\week3\\lib\\site-packages\\anyio\\_backends\\_asyncio.py\", line 851, in run\n",
      "    result = context.run(func, *args)\n",
      "  File \"c:\\Users\\sgu07\\anaconda3\\envs\\week3\\lib\\site-packages\\gradio\\utils.py\", line 818, in wrapper\n",
      "    response = f(*args, **kwargs)\n",
      "  File \"C:\\Users\\sgu07\\AppData\\Local\\Temp\\ipykernel_27240\\1171984891.py\", line 3, in process_image\n",
      "    image = Image.open(image).resize((224, 224))\n",
      "NameError: name 'Image' is not defined\n"
     ]
    }
   ],
   "source": [
    "# Function to process uploaded image, find the closest caption, and display it\n",
    "def process_image(image):\n",
    "    image = Image.open(image).resize((224, 224))\n",
    "    image_array = np.array(image).flatten()\n",
    "    \n",
    "    # In this example, we're using random data for the descriptor\n",
    "    descriptor = np.random.rand(descriptor_dimensions)\n",
    "    embedding = db.convert_to_embeddings(descriptor, embedding_matrix)\n",
    "    \n",
    "    top_image_ids = db.query_database(embedding, top_k=1)\n",
    "    if top_image_ids:\n",
    "        top_image_id = top_image_ids[0]\n",
    "        caption_ids = coco_organizer.get_caption_id(top_image_id)\n",
    "        if caption_ids:\n",
    "            caption = coco_organizer.get_caption(caption_ids[0])\n",
    "            return image, caption\n",
    "    return image, \"No caption found\"\n",
    "\n",
    "# Gradio Interface\n",
    "iface = gr.Interface(\n",
    "    fn=process_image,\n",
    "    inputs=gr.components.Image(type=\"filepath\", label=\"Upload Image\"),\n",
    "    outputs=[gr.components.Image(type=\"pil\", label=\"Uploaded Image\"), gr.components.Textbox(label=\"Caption\")],\n",
    "    title=\"Image Caption Retrieval System\"\n",
    ")\n",
    "\n",
    "if __name__ == \"__main__\":\n",
    "    iface.launch(share=True)"
   ]
  },
  {
   "cell_type": "code",
   "execution_count": null,
   "metadata": {},
   "outputs": [],
   "source": []
  }
 ],
 "metadata": {
  "kernelspec": {
   "display_name": "week3",
   "language": "python",
   "name": "python3"
  },
  "language_info": {
   "codemirror_mode": {
    "name": "ipython",
    "version": 3
   },
   "file_extension": ".py",
   "mimetype": "text/x-python",
   "name": "python",
   "nbconvert_exporter": "python",
   "pygments_lexer": "ipython3",
   "version": "3.8.19"
  }
 },
 "nbformat": 4,
 "nbformat_minor": 2
}
