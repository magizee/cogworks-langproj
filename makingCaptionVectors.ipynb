{
 "cells": [
  {
   "cell_type": "code",
   "execution_count": 1,
   "metadata": {},
   "outputs": [],
   "source": [
    "from embed import to_token, make_the_vocab, to_idf, make_idf_mapping, make_caption_descriptor"
   ]
  },
  {
   "cell_type": "code",
   "execution_count": null,
   "metadata": {},
   "outputs": [],
   "source": [
    "# get captions from COCOOrganizer database\n",
    "# all_docs is basically list of all captions\n",
    "# doc is every individual caption\n",
    "\n",
    "# get captions and append to list all_docs from COCOOrganizer\n",
    "# run a for loop of some thing\n",
    "\n",
    "\n",
    "# tokens is a List[List[str]]\n",
    "token_ls = [to_token(doc) for doc in all_docs]\n",
    "\n",
    "# all of the vocab needed in alphabetic order, no repetitions\n",
    "vocab = make_the_vocab(token_ls)\n",
    "\n",
    "# generates idf for all vocabs\n",
    "idf = to_idf(token_ls)\n",
    "\n",
    "idf_map = make_idf_mapping(idf, vocab) # idf_map = {vocab: idf}\n",
    "# would mapping it as {idf: vocab} be logically easier?\n",
    "\n",
    "make_caption_descriptor()"
   ]
  },
  {
   "cell_type": "code",
   "execution_count": null,
   "metadata": {},
   "outputs": [],
   "source": [
    "# for loop of captions -> easier to map descriptor to caption later??\n",
    "# doc is the caption\n",
    "\n",
    "cap_to_descriptor = {}\n",
    "\n",
    "for doc in all_docs:\n",
    "    doc_descriptor = make_caption_descriptor(doc, idf_map)\n",
    "    cap_to_descriptor[doc] = doc_descriptor\n",
    "\n",
    "#save caption to key mappings for later use\n"
   ]
  }
 ],
 "metadata": {
  "kernelspec": {
   "display_name": "week3",
   "language": "python",
   "name": "python3"
  },
  "language_info": {
   "codemirror_mode": {
    "name": "ipython",
    "version": 3
   },
   "file_extension": ".py",
   "mimetype": "text/x-python",
   "name": "python",
   "nbconvert_exporter": "python",
   "pygments_lexer": "ipython3",
   "version": "3.8.19"
  }
 },
 "nbformat": 4,
 "nbformat_minor": 2
}
